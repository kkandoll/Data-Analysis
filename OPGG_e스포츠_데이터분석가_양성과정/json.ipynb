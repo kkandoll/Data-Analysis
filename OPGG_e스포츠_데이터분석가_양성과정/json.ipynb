{
 "cells": [
  {
   "cell_type": "code",
   "execution_count": 1,
   "id": "2fa400e1",
   "metadata": {},
   "outputs": [],
   "source": [
    "import pandas as pd\n",
    "import numpy as np\n",
    "import requests\n",
    "import matplotlib.pyplot as plt\n",
    "import seaborn as sns\n",
    "import json"
   ]
  },
  {
   "cell_type": "code",
   "execution_count": 2,
   "id": "f1c50460",
   "metadata": {},
   "outputs": [],
   "source": [
    "json_champ = pd.DataFrame()"
   ]
  },
  {
   "cell_type": "code",
   "execution_count": 3,
   "id": "797efed4",
   "metadata": {},
   "outputs": [
    {
     "name": "stderr",
     "output_type": "stream",
     "text": [
      "C:\\ProgramData\\Anaconda3\\lib\\site-packages\\numpy\\lib\\arraysetops.py:583: FutureWarning: elementwise comparison failed; returning scalar instead, but in the future will perform elementwise comparison\n",
      "  mask |= (ar1 == a)\n"
     ]
    }
   ],
   "source": [
    "data = pd.read_csv('11.23.csv', index_col=0)"
   ]
  },
  {
   "cell_type": "code",
   "execution_count": 4,
   "id": "3971471f",
   "metadata": {},
   "outputs": [],
   "source": [
    "value = data['championId'].value_counts()"
   ]
  },
  {
   "cell_type": "code",
   "execution_count": 5,
   "id": "c91596d3",
   "metadata": {},
   "outputs": [],
   "source": [
    "champId = value.index"
   ]
  },
  {
   "cell_type": "code",
   "execution_count": 6,
   "id": "95f2c133",
   "metadata": {},
   "outputs": [],
   "source": [
    "champId = champId.sort_values( ascending=False) "
   ]
  },
  {
   "cell_type": "code",
   "execution_count": 7,
   "id": "16816651",
   "metadata": {},
   "outputs": [
    {
     "data": {
      "text/plain": [
       "Int64Index([887, 876, 875, 777, 711, 555, 526, 523, 518, 517,\n",
       "            ...\n",
       "             10,   9,   8,   7,   6,   5,   4,   3,   2,   1],\n",
       "           dtype='int64', length=157)"
      ]
     },
     "execution_count": 7,
     "metadata": {},
     "output_type": "execute_result"
    }
   ],
   "source": [
    "champId"
   ]
  },
  {
   "cell_type": "code",
   "execution_count": 8,
   "id": "5dfc6c1c",
   "metadata": {},
   "outputs": [
    {
     "ename": "FileNotFoundError",
     "evalue": "[Errno 2] No such file or directory: '887.json'",
     "output_type": "error",
     "traceback": [
      "\u001b[1;31m---------------------------------------------------------------------------\u001b[0m",
      "\u001b[1;31mFileNotFoundError\u001b[0m                         Traceback (most recent call last)",
      "\u001b[1;32m~\\AppData\\Local\\Temp/ipykernel_19300/111635060.py\u001b[0m in \u001b[0;36m<module>\u001b[1;34m\u001b[0m\n\u001b[0;32m      2\u001b[0m \u001b[0mjson_id\u001b[0m \u001b[1;33m=\u001b[0m \u001b[1;33m[\u001b[0m\u001b[1;33m]\u001b[0m\u001b[1;33m\u001b[0m\u001b[1;33m\u001b[0m\u001b[0m\n\u001b[0;32m      3\u001b[0m \u001b[1;32mfor\u001b[0m \u001b[0mi\u001b[0m \u001b[1;32min\u001b[0m \u001b[0mlist\u001b[0m\u001b[1;33m:\u001b[0m\u001b[1;33m\u001b[0m\u001b[1;33m\u001b[0m\u001b[0m\n\u001b[1;32m----> 4\u001b[1;33m     \u001b[0mfile\u001b[0m \u001b[1;33m=\u001b[0m \u001b[0mopen\u001b[0m\u001b[1;33m(\u001b[0m\u001b[1;34mf'{i}.json'\u001b[0m\u001b[1;33m,\u001b[0m \u001b[1;34m'rt'\u001b[0m\u001b[1;33m,\u001b[0m \u001b[0mencoding\u001b[0m\u001b[1;33m=\u001b[0m\u001b[1;34m'UTF8'\u001b[0m\u001b[1;33m)\u001b[0m\u001b[1;33m\u001b[0m\u001b[1;33m\u001b[0m\u001b[0m\n\u001b[0m\u001b[0;32m      5\u001b[0m     \u001b[0mglobals\u001b[0m\u001b[1;33m(\u001b[0m\u001b[1;33m)\u001b[0m\u001b[1;33m[\u001b[0m\u001b[1;34mf'champ_{i}'\u001b[0m\u001b[1;33m]\u001b[0m \u001b[1;33m=\u001b[0m \u001b[0mjson\u001b[0m\u001b[1;33m.\u001b[0m\u001b[0mload\u001b[0m\u001b[1;33m(\u001b[0m\u001b[0mfile\u001b[0m\u001b[1;33m)\u001b[0m\u001b[1;33m\u001b[0m\u001b[1;33m\u001b[0m\u001b[0m\n\u001b[0;32m      6\u001b[0m     \u001b[0mjson_id\u001b[0m\u001b[1;33m.\u001b[0m\u001b[0mappend\u001b[0m\u001b[1;33m(\u001b[0m\u001b[0mglobals\u001b[0m\u001b[1;33m(\u001b[0m\u001b[1;33m)\u001b[0m\u001b[1;33m[\u001b[0m\u001b[1;34mf'champ_{i}'\u001b[0m\u001b[1;33m]\u001b[0m\u001b[1;33m)\u001b[0m\u001b[1;33m\u001b[0m\u001b[1;33m\u001b[0m\u001b[0m\n",
      "\u001b[1;31mFileNotFoundError\u001b[0m: [Errno 2] No such file or directory: '887.json'"
     ]
    }
   ],
   "source": [
    "list = champId\n",
    "json_id = []\n",
    "for i in list:\n",
    "    file = open(f'{i}.json', 'rt', encoding='UTF8')\n",
    "    globals()[f'champ_{i}'] = json.load(file)\n",
    "    json_id.append(globals()[f'champ_{i}'])"
   ]
  },
  {
   "cell_type": "code",
   "execution_count": null,
   "id": "cc6e4458",
   "metadata": {},
   "outputs": [],
   "source": [
    "print(champ_887.get('roles'))"
   ]
  },
  {
   "cell_type": "code",
   "execution_count": null,
   "id": "e376da2e",
   "metadata": {},
   "outputs": [],
   "source": [
    "style = []\n",
    "difficulty = []\n",
    "damageType = []\n",
    "damage = []\n",
    "durability = []\n",
    "crowdControl = []\n",
    "mobility = []\n",
    "utility = []\n",
    "championId = []\n",
    "name = []\n",
    "roles = []\n"
   ]
  },
  {
   "cell_type": "code",
   "execution_count": null,
   "id": "df791a4d",
   "metadata": {},
   "outputs": [],
   "source": [
    "list = json_id\n",
    "for num in list:\n",
    "    style.append(num.get(\"tacticalInfo\").get('style'))\n",
    "    difficulty.append(num.get(\"tacticalInfo\").get('difficulty'))\n",
    "    damageType.append(num.get(\"tacticalInfo\").get('damageType'))\n",
    "    damage.append(num.get(\"playstyleInfo\").get('damage'))\n",
    "    durability.append(num.get(\"playstyleInfo\").get('durability'))\n",
    "    crowdControl.append(num.get(\"playstyleInfo\").get('crowdControl'))\n",
    "    mobility.append(num.get(\"playstyleInfo\").get('mobility'))\n",
    "    utility.append(num.get(\"playstyleInfo\").get('utility'))\n",
    "    championId.append(num.get(\"id\"))\n",
    "    name.append(num.get(\"name\"))\n",
    "    a = []\n",
    "    for list in num.get(\"roles\"):\n",
    "        a.append(list)\n",
    "    roles.append(a)"
   ]
  },
  {
   "cell_type": "code",
   "execution_count": null,
   "id": "ed45e2a3",
   "metadata": {},
   "outputs": [],
   "source": [
    "json_champ['championId'] = championId\n",
    "json_champ['name'] = name\n",
    "json_champ['style'] = style\n",
    "json_champ['difficulty'] = difficulty\n",
    "json_champ['damageType'] = damageType\n",
    "json_champ['damage'] = damage\n",
    "json_champ['durability'] = durability\n",
    "json_champ['crowdControl'] = crowdControl\n",
    "json_champ['mobility'] = mobility\n",
    "json_champ['utility'] = utility\n",
    "json_champ['roles'] = roles"
   ]
  },
  {
   "cell_type": "code",
   "execution_count": null,
   "id": "669cd29d",
   "metadata": {},
   "outputs": [],
   "source": [
    "json_champ"
   ]
  },
  {
   "cell_type": "code",
   "execution_count": null,
   "id": "e6a23fa9",
   "metadata": {},
   "outputs": [],
   "source": [
    "json_champ.to_csv('C:\\\\Users\\\\kkandoll\\\\ESports_Data_Analysis\\\\json_champ.csv',index=False, encoding=\"utf-8-sig\")"
   ]
  }
 ],
 "metadata": {
  "kernelspec": {
   "display_name": "Python 3 (ipykernel)",
   "language": "python",
   "name": "python3"
  },
  "language_info": {
   "codemirror_mode": {
    "name": "ipython",
    "version": 3
   },
   "file_extension": ".py",
   "mimetype": "text/x-python",
   "name": "python",
   "nbconvert_exporter": "python",
   "pygments_lexer": "ipython3",
   "version": "3.8.8"
  }
 },
 "nbformat": 4,
 "nbformat_minor": 5
}
